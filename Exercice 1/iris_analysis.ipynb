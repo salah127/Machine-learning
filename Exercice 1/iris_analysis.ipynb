{
 "cells": [
  {
   "cell_type": "markdown",
   "id": "6b7adbc4",
   "metadata": {},
   "source": [
    "# Analyse du Dataset Iris\n",
    "\n",
    "Ce notebook charge le dataset Iris et utilise diverses fonctions pour comprendre sa structure.\n",
    "\n",
    "## Objectifs :\n",
    "- Charger le dataset Iris depuis UCI ML Repository\n",
    "- Afficher les premières lignes\n",
    "- Compter le nombre d'observations et de caractéristiques\n",
    "- Identifier les types de données de chaque caractéristique\n",
    "- Analyser la structure du dataset"
   ]
  },
  {
   "cell_type": "markdown",
   "id": "f05badf1",
   "metadata": {},
   "source": [
    "## 1. Import des librairies nécessaires"
   ]
  },
  {
   "cell_type": "code",
   "execution_count": null,
   "id": "7a4069ec",
   "metadata": {},
   "outputs": [],
   "source": [
    "import pandas as pd\n",
    "import numpy as np\n",
    "from ucimlrepo import fetch_ucirepo\n",
    "import matplotlib.pyplot as plt\n",
    "import seaborn as sns\n",
    "\n",
    "# Configuration pour un meilleur affichage\n",
    "pd.set_option('display.max_columns', None)\n",
    "pd.set_option('display.width', None)\n",
    "plt.style.use('default')\n",
    "sns.set_palette(\"husl\")"
   ]
  },
  {
   "cell_type": "markdown",
   "id": "355fb343",
   "metadata": {},
   "source": [
    "## 2. Chargement du dataset Iris"
   ]
  },
  {
   "cell_type": "code",
   "execution_count": null,
   "id": "9d29c098",
   "metadata": {},
   "outputs": [],
   "source": [
    "# Fetch dataset from UCI ML Repository\n",
    "iris = fetch_ucirepo(id=53)\n",
    "\n",
    "# Data (as pandas dataframes)\n",
    "X = iris.data.features\n",
    "y = iris.data.targets\n",
    "\n",
    "print(\"Dataset Iris chargé avec succès!\")\n",
    "print(f\"Shape des features (X): {X.shape}\")\n",
    "print(f\"Shape des targets (y): {y.shape}\")"
   ]
  },
  {
   "cell_type": "markdown",
   "id": "dffffe3f",
   "metadata": {},
   "source": [
    "## 3. Exploration de la structure du dataset"
   ]
  },
  {
   "cell_type": "code",
   "execution_count": null,
   "id": "62b6367b",
   "metadata": {},
   "outputs": [],
   "source": [
    "# Combiner X et y pour avoir le dataset complet\n",
    "dataset = pd.concat([X, y], axis=1)\n",
    "\n",
    "print(\"=\" * 50)\n",
    "print(\"INFORMATIONS GÉNÉRALES SUR LE DATASET\")\n",
    "print(\"=\" * 50)\n",
    "print(f\"Nombre total d'observations: {len(dataset)}\")\n",
    "print(f\"Nombre de caractéristiques (features): {X.shape[1]}\")\n",
    "print(f\"Nombre de variables cibles: {y.shape[1]}\")\n",
    "print(f\"Dimensions complètes du dataset: {dataset.shape}\")\n",
    "\n",
    "print(\"\\nNoms des colonnes:\")\n",
    "print(f\"Features: {list(X.columns)}\")\n",
    "print(f\"Target: {list(y.columns)}\")"
   ]
  },
  {
   "cell_type": "markdown",
   "id": "919d7b7b",
   "metadata": {},
   "source": [
    "## 4. Affichage des premières lignes"
   ]
  },
  {
   "cell_type": "code",
   "execution_count": null,
   "id": "bbf29473",
   "metadata": {},
   "outputs": [],
   "source": [
    "print(\"Premières 10 lignes du dataset:\")\n",
    "print(\"=\" * 50)\n",
    "dataset.head(10)"
   ]
  },
  {
   "cell_type": "markdown",
   "id": "16916787",
   "metadata": {},
   "source": [
    "## 5. Types de données de chaque caractéristique"
   ]
  },
  {
   "cell_type": "code",
   "execution_count": null,
   "id": "6d57e7d8",
   "metadata": {},
   "outputs": [],
   "source": [
    "print(\"Types de données par colonne:\")\n",
    "print(\"=\" * 30)\n",
    "for column in dataset.columns:\n",
    "    dtype = dataset[column].dtype\n",
    "    print(f\"{column:20}: {dtype}\")\n",
    "\n",
    "print(\"\\nRésumé des types:\")\n",
    "print(dataset.dtypes.value_counts())"
   ]
  },
  {
   "cell_type": "markdown",
   "id": "d3ec1ddf",
   "metadata": {},
   "source": [
    "## 6. Informations détaillées sur le dataset"
   ]
  },
  {
   "cell_type": "code",
   "execution_count": null,
   "id": "88e5baa0",
   "metadata": {},
   "outputs": [],
   "source": [
    "# Informations générales\n",
    "print(\"Informations détaillées sur le dataset:\")\n",
    "print(\"=\" * 40)\n",
    "dataset.info()"
   ]
  },
  {
   "cell_type": "markdown",
   "id": "2b904927",
   "metadata": {},
   "source": [
    "## 7. Statistiques descriptives"
   ]
  },
  {
   "cell_type": "code",
   "execution_count": null,
   "id": "da961343",
   "metadata": {},
   "outputs": [],
   "source": [
    "print(\"Statistiques descriptives des caractéristiques numériques:\")\n",
    "X.describe()"
   ]
  },
  {
   "cell_type": "markdown",
   "id": "3429694f",
   "metadata": {},
   "source": [
    "## 8. Vérification des valeurs manquantes"
   ]
  },
  {
   "cell_type": "code",
   "execution_count": null,
   "id": "c503ecfe",
   "metadata": {},
   "outputs": [],
   "source": [
    "print(\"Vérification des valeurs manquantes:\")\n",
    "print(\"=\" * 35)\n",
    "missing_values = dataset.isnull().sum()\n",
    "\n",
    "if missing_values.sum() == 0:\n",
    "    print(\"✅ Aucune valeur manquante détectée!\")\n",
    "else:\n",
    "    print(\"Valeurs manquantes par colonne:\")\n",
    "    print(missing_values[missing_values > 0])\n",
    "\n",
    "print(f\"\\nTotal des valeurs manquantes: {missing_values.sum()}\")"
   ]
  },
  {
   "cell_type": "markdown",
   "id": "f064658c",
   "metadata": {},
   "source": [
    "## 9. Distribution des classes cibles"
   ]
  },
  {
   "cell_type": "code",
   "execution_count": null,
   "id": "1fe60a1b",
   "metadata": {},
   "outputs": [],
   "source": [
    "print(\"Distribution des classes cibles:\")\n",
    "print(\"=\" * 32)\n",
    "\n",
    "for column in y.columns:\n",
    "    print(f\"\\nDistribution de {column}:\")\n",
    "    print(y[column].value_counts().sort_index())\n",
    "    \n",
    "    print(f\"\\nPourcentages pour {column}:\")\n",
    "    percentages = y[column].value_counts(normalize=True).sort_index() * 100\n",
    "    for idx, pct in percentages.items():\n",
    "        print(f\"  {idx}: {pct:.1f}%\")"
   ]
  },
  {
   "cell_type": "markdown",
   "id": "6cd2a646",
   "metadata": {},
   "source": [
    "## 10. Métadonnées et informations sur les variables"
   ]
  },
  {
   "cell_type": "code",
   "execution_count": null,
   "id": "eca2638c",
   "metadata": {},
   "outputs": [],
   "source": [
    "print(\"Métadonnées du dataset:\")\n",
    "print(\"=\" * 25)\n",
    "print(iris.metadata)"
   ]
  },
  {
   "cell_type": "code",
   "execution_count": null,
   "id": "5a488a6c",
   "metadata": {},
   "outputs": [],
   "source": [
    "print(\"Informations sur les variables:\")\n",
    "print(\"=\" * 32)\n",
    "print(iris.variables)"
   ]
  },
  {
   "cell_type": "markdown",
   "id": "e2327620",
   "metadata": {},
   "source": [
    "## 11. Visualisations de base"
   ]
  },
  {
   "cell_type": "code",
   "execution_count": null,
   "id": "d150130a",
   "metadata": {},
   "outputs": [],
   "source": [
    "# Configuration de la figure\n",
    "fig, axes = plt.subplots(2, 2, figsize=(15, 12))\n",
    "fig.suptitle('Analyse visuelle du dataset Iris', fontsize=16)\n",
    "\n",
    "# 1. Histogrammes des caractéristiques\n",
    "X.hist(ax=axes[0, 0], bins=20, alpha=0.7)\n",
    "axes[0, 0].set_title('Distribution des caractéristiques')\n",
    "\n",
    "# 2. Boxplot des caractéristiques par classe\n",
    "melted_data = pd.melt(dataset, id_vars=[dataset.columns[-1]], \n",
    "                     value_vars=dataset.columns[:-1])\n",
    "sns.boxplot(data=melted_data, x='variable', y='value', \n",
    "            hue=dataset.columns[-1], ax=axes[0, 1])\n",
    "axes[0, 1].set_title('Boxplot par classe')\n",
    "axes[0, 1].tick_params(axis='x', rotation=45)\n",
    "\n",
    "# 3. Matrice de corrélation\n",
    "corr_matrix = X.corr()\n",
    "sns.heatmap(corr_matrix, annot=True, cmap='coolwarm', ax=axes[1, 0])\n",
    "axes[1, 0].set_title('Matrice de corrélation')\n",
    "\n",
    "# 4. Scatter plot des deux premières caractéristiques\n",
    "scatter = axes[1, 1].scatter(X.iloc[:, 0], X.iloc[:, 1], \n",
    "                            c=pd.Categorical(y.iloc[:, 0]).codes, \n",
    "                            cmap='viridis', alpha=0.7)\n",
    "axes[1, 1].set_xlabel(X.columns[0])\n",
    "axes[1, 1].set_ylabel(X.columns[1])\n",
    "axes[1, 1].set_title('Scatter plot des 2 premières caractéristiques')\n",
    "plt.colorbar(scatter, ax=axes[1, 1])\n",
    "\n",
    "plt.tight_layout()\n",
    "plt.show()"
   ]
  },
  {
   "cell_type": "markdown",
   "id": "5ea879dc",
   "metadata": {},
   "source": [
    "## 12. Résumé de l'analyse"
   ]
  },
  {
   "cell_type": "code",
   "execution_count": null,
   "id": "830016c3",
   "metadata": {},
   "outputs": [],
   "source": [
    "print(\"=\" * 60)\n",
    "print(\"RÉSUMÉ DE L'ANALYSE DU DATASET IRIS\")\n",
    "print(\"=\" * 60)\n",
    "print(f\"📊 Dataset: {len(dataset)} observations, {X.shape[1]} caractéristiques\")\n",
    "print(f\"🎯 Classes: {y.iloc[:, 0].nunique()} classes différentes\")\n",
    "print(f\"📈 Types de données: {len(dataset.dtypes.unique())} types différents\")\n",
    "print(f\"❌ Valeurs manquantes: {dataset.isnull().sum().sum()}\")\n",
    "print(f\"🔢 Caractéristiques numériques: {X.select_dtypes(include=[np.number]).shape[1]}\")\n",
    "\n",
    "print(\"\\n✅ L'analyse de la structure du dataset Iris est terminée!\")\n",
    "print(\"\\n🔍 Points clés identifiés:\")\n",
    "print(\"   - Dataset équilibré avec 50 observations par classe\")\n",
    "print(\"   - 4 caractéristiques numériques continues\")\n",
    "print(\"   - Aucune valeur manquante\")\n",
    "print(\"   - Dataset de qualité prêt pour l'analyse et la modélisation\")"
   ]
  }
 ],
 "metadata": {
  "language_info": {
   "name": "python"
  }
 },
 "nbformat": 4,
 "nbformat_minor": 5
}
